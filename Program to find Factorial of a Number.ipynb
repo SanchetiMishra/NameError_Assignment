{
 "cells": [
  {
   "cell_type": "code",
   "execution_count": 1,
   "metadata": {},
   "outputs": [
    {
     "name": "stdout",
     "output_type": "stream",
     "text": [
      "Enter the number:7\n",
      "Factorial of 7 is 5040\n"
     ]
    }
   ],
   "source": [
    "# Program to find Factorial of a number\n",
    "\n",
    "def factorial(n): \n",
    "    if n < 0: \n",
    "        return 0\n",
    "    elif n == 0 or n == 1: \n",
    "        return 1\n",
    "    else: \n",
    "        fact = 1\n",
    "        while(n > 1): \n",
    "            fact *= n \n",
    "            n -= 1\n",
    "        return fact \n",
    "    \n",
    "# Take input from the user\n",
    "num=int(input(\"Enter the number:\"))\n",
    "print(\"Factorial of\",num,\"is\", \n",
    "factorial(num)) \n",
    "  "
   ]
  },
  {
   "cell_type": "code",
   "execution_count": null,
   "metadata": {},
   "outputs": [],
   "source": []
  }
 ],
 "metadata": {
  "kernelspec": {
   "display_name": "Python 3",
   "language": "python",
   "name": "python3"
  },
  "language_info": {
   "codemirror_mode": {
    "name": "ipython",
    "version": 3
   },
   "file_extension": ".py",
   "mimetype": "text/x-python",
   "name": "python",
   "nbconvert_exporter": "python",
   "pygments_lexer": "ipython3",
   "version": "3.7.6"
  }
 },
 "nbformat": 4,
 "nbformat_minor": 4
}
